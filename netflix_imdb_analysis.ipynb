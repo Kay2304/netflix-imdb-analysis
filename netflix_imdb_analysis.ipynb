import pandas as pd

# Load Netflix data
netflix_df = pd.read_csv('netflix_titles.csv')
netflix_df['release_year'] = netflix_df['release_year'].astype(str)

# Load IMDb basics and ratings
imdb_basics = pd.read_csv('title.basics.tsv', sep='\t', low_memory=False)
imdb_ratings = pd.read_csv('title.ratings.tsv', sep='\t')

# Filter IMDb titles to movies and TV shows only
imdb_basics_filtered = imdb_basics[(imdb_basics['titleType'].isin(['movie', 'tvMovie', 'tvSeries']))]

# Merge IMDb basics with ratings
imdb_df = pd.merge(imdb_basics_filtered, imdb_ratings, on='tconst')

# Prepare Netflix titles for matching - lower case & strip whitespace
netflix_df['title_lower'] = netflix_df['title'].str.lower().str.strip()
imdb_df['primaryTitle_lower'] = imdb_df['primaryTitle'].str.lower().str.strip()
imdb_df['startYear'] = imdb_df['startYear'].astype(str)

# Merge on title and year
merged_df = pd.merge(netflix_df, imdb_df, left_on=['title_lower', 'release_year'],
                     right_on=['primaryTitle_lower', 'startYear'], how='inner')

print(f'Matched Netflix titles with IMDb ratings: {merged_df.shape[0]} rows')

# Now analyze, for example, average IMDb rating by Netflix type
print(merged_df.groupby('type')['averageRating'].mean())

import matplotlib.pyplot as plt
import seaborn as sns

# Distribution of IMDb ratings by Netflix type
plt.figure(figsize=(10,6))
sns.histplot(data=merged_df, x='averageRating', hue='type', bins=20, kde=True)
plt.title('IMDb Ratings Distribution for Netflix Movies vs TV Shows')
plt.xlabel('IMDb Rating')
plt.ylabel('Count')
plt.show()

# Top 10 highest-rated Netflix Movies & TV Shows by IMDb
top_movies = merged_df[merged_df['type']=='Movie'].sort_values(by='averageRating', ascending=False).head(10)
top_tv = merged_df[merged_df['type']=='TV Show'].sort_values(by='averageRating', ascending=False).head(10)

print("Top 10 Netflix Movies by IMDb rating:")
print(top_movies[['title', 'averageRating', 'numVotes']])

print("\nTop 10 Netflix TV Shows by IMDb rating:")
print(top_tv[['title', 'averageRating', 'numVotes']])

# Average rating by genre (explode genres since they are pipe-separated)
merged_df['genres'] = merged_df['genres'].fillna('')
genre_expanded = merged_df.assign(genre=merged_df['genres'].str.split(',')).explode('genre')
genre_expanded['genre'] = genre_expanded['genre'].str.strip()

avg_rating_by_genre = genre_expanded.groupby('genre')['averageRating'].mean().sort_values(ascending=False)
print("\nAverage IMDb rating by genre:")
print(avg_rating_by_genre)

# Plot average rating by genre
plt.figure(figsize=(12,6))
avg_rating_by_genre.plot(kind='bar')
plt.title('Average IMDb Rating by Genre for Netflix Titles')
plt.ylabel('Average IMDb Rating')
plt.xlabel('Genre')
plt.show()

